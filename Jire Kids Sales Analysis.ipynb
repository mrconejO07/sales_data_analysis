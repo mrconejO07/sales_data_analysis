{
 "cells": [
  {
   "cell_type": "markdown",
   "id": "92bf393e-b2ca-4a83-ab4d-e4b0e2d1043e",
   "metadata": {
    "tags": []
   },
   "source": [
    "# Jireh Kids - Sales Analysis"
   ]
  },
  {
   "cell_type": "markdown",
   "id": "898e7e6d-d631-44b4-a4a2-df7566da61b1",
   "metadata": {
    "tags": []
   },
   "source": [
    "## Task 1: Merge all years sales files in a Single CSV file"
   ]
  },
  {
   "cell_type": "code",
   "execution_count": 9,
   "id": "61fbbb35-3bfa-468c-98d6-715e49e799c5",
   "metadata": {
    "tags": []
   },
   "outputs": [],
   "source": [
    "import pandas as pd\n",
    "import os"
   ]
  },
  {
   "cell_type": "code",
   "execution_count": 113,
   "id": "ecc41cb3-6ce7-4f8c-95a7-3cd168c8f0f7",
   "metadata": {
    "tags": []
   },
   "outputs": [],
   "source": [
    "files = [file for file in os.listdir('./sales_data')]\n",
    "all_months_data = pd.DataFrame()\n",
    "\n",
    "\n",
    "for file in files:\n",
    "    df = pd.read_excel(\"./sales_data/\" + file)\n",
    "    all_months_data = pd.concat([all_months_data, df])\n",
    "    \n",
    "all_months_data.to_csv(\"all_sales.csv\", index=False)"
   ]
  },
  {
   "cell_type": "markdown",
   "id": "50143049-0bc7-4298-8204-89debcd687b7",
   "metadata": {
    "tags": []
   },
   "source": [
    "#### Read in updated DataFrame"
   ]
  },
  {
   "cell_type": "code",
   "execution_count": 11,
   "id": "3d409e4c-c2bd-48e3-8ae8-d6568057f848",
   "metadata": {
    "tags": []
   },
   "outputs": [
    {
     "data": {
      "text/html": [
       "<div>\n",
       "<style scoped>\n",
       "    .dataframe tbody tr th:only-of-type {\n",
       "        vertical-align: middle;\n",
       "    }\n",
       "\n",
       "    .dataframe tbody tr th {\n",
       "        vertical-align: top;\n",
       "    }\n",
       "\n",
       "    .dataframe thead th {\n",
       "        text-align: right;\n",
       "    }\n",
       "</style>\n",
       "<table border=\"1\" class=\"dataframe\">\n",
       "  <thead>\n",
       "    <tr style=\"text-align: right;\">\n",
       "      <th></th>\n",
       "      <th>FECHA</th>\n",
       "      <th>CANTIDAD</th>\n",
       "      <th>U.M.</th>\n",
       "      <th>DESCRIPCIÓN</th>\n",
       "      <th>PRECIO_VENTA</th>\n",
       "      <th>TOTAL</th>\n",
       "      <th>OBSERVACIONES</th>\n",
       "    </tr>\n",
       "  </thead>\n",
       "  <tbody>\n",
       "    <tr>\n",
       "      <th>0</th>\n",
       "      <td>2/4/2024</td>\n",
       "      <td>96</td>\n",
       "      <td>uni.</td>\n",
       "      <td>OVEJERAS</td>\n",
       "      <td>5.0</td>\n",
       "      <td>480.0</td>\n",
       "      <td>NaN</td>\n",
       "    </tr>\n",
       "    <tr>\n",
       "      <th>1</th>\n",
       "      <td>2/4/2024</td>\n",
       "      <td>96</td>\n",
       "      <td>uni.</td>\n",
       "      <td>ECONOMICAS</td>\n",
       "      <td>2.5</td>\n",
       "      <td>240.0</td>\n",
       "      <td>NaN</td>\n",
       "    </tr>\n",
       "    <tr>\n",
       "      <th>2</th>\n",
       "      <td>2/8/2024</td>\n",
       "      <td>100</td>\n",
       "      <td>uni.</td>\n",
       "      <td>OVEJERAS</td>\n",
       "      <td>5.0</td>\n",
       "      <td>500.0</td>\n",
       "      <td>NaN</td>\n",
       "    </tr>\n",
       "    <tr>\n",
       "      <th>3</th>\n",
       "      <td>2/10/2024</td>\n",
       "      <td>60</td>\n",
       "      <td>uni.</td>\n",
       "      <td>ECONOMICAS</td>\n",
       "      <td>2.5</td>\n",
       "      <td>150.0</td>\n",
       "      <td>NaN</td>\n",
       "    </tr>\n",
       "    <tr>\n",
       "      <th>4</th>\n",
       "      <td>2/18/2024</td>\n",
       "      <td>48</td>\n",
       "      <td>uni.</td>\n",
       "      <td>OVEJERAS</td>\n",
       "      <td>5.0</td>\n",
       "      <td>240.0</td>\n",
       "      <td>NaN</td>\n",
       "    </tr>\n",
       "  </tbody>\n",
       "</table>\n",
       "</div>"
      ],
      "text/plain": [
       "       FECHA  CANTIDAD  U.M. DESCRIPCIÓN  PRECIO_VENTA  TOTAL OBSERVACIONES\n",
       "0   2/4/2024        96  uni.    OVEJERAS           5.0  480.0           NaN\n",
       "1   2/4/2024        96  uni.  ECONOMICAS           2.5  240.0           NaN\n",
       "2   2/8/2024       100  uni.    OVEJERAS           5.0  500.0           NaN\n",
       "3  2/10/2024        60  uni.  ECONOMICAS           2.5  150.0           NaN\n",
       "4  2/18/2024        48  uni.    OVEJERAS           5.0  240.0           NaN"
      ]
     },
     "execution_count": 11,
     "metadata": {},
     "output_type": "execute_result"
    }
   ],
   "source": [
    "all_data_df = pd.read_csv(\"all_sales.csv\")\n",
    "all_data_df.head(5)"
   ]
  },
  {
   "cell_type": "markdown",
   "id": "6ae96ae7-56ae-4e4f-8473-929f00dda830",
   "metadata": {
    "tags": []
   },
   "source": [
    "## EDA"
   ]
  },
  {
   "cell_type": "markdown",
   "id": "44cc974a-bbf5-4984-a70a-3c38f18276c7",
   "metadata": {},
   "source": [
    "#### Dataset info"
   ]
  },
  {
   "cell_type": "code",
   "execution_count": 15,
   "id": "159b3ff8-ea18-4048-a204-e974e0ddbfc5",
   "metadata": {
    "tags": []
   },
   "outputs": [
    {
     "name": "stdout",
     "output_type": "stream",
     "text": [
      "<class 'pandas.core.frame.DataFrame'>\n",
      "RangeIndex: 44 entries, 0 to 43\n",
      "Data columns (total 7 columns):\n",
      " #   Column         Non-Null Count  Dtype  \n",
      "---  ------         --------------  -----  \n",
      " 0   FECHA          43 non-null     object \n",
      " 1   CANTIDAD       44 non-null     int64  \n",
      " 2   U.M.           44 non-null     object \n",
      " 3   DESCRIPCIÓN    44 non-null     object \n",
      " 4   PRECIO_VENTA   44 non-null     float64\n",
      " 5   TOTAL          44 non-null     float64\n",
      " 6   OBSERVACIONES  2 non-null      object \n",
      "dtypes: float64(2), int64(1), object(4)\n",
      "memory usage: 2.5+ KB\n",
      "\n",
      "\n"
     ]
    },
    {
     "data": {
      "text/html": [
       "<div>\n",
       "<style scoped>\n",
       "    .dataframe tbody tr th:only-of-type {\n",
       "        vertical-align: middle;\n",
       "    }\n",
       "\n",
       "    .dataframe tbody tr th {\n",
       "        vertical-align: top;\n",
       "    }\n",
       "\n",
       "    .dataframe thead th {\n",
       "        text-align: right;\n",
       "    }\n",
       "</style>\n",
       "<table border=\"1\" class=\"dataframe\">\n",
       "  <thead>\n",
       "    <tr style=\"text-align: right;\">\n",
       "      <th></th>\n",
       "      <th>CANTIDAD</th>\n",
       "      <th>PRECIO_VENTA</th>\n",
       "      <th>TOTAL</th>\n",
       "    </tr>\n",
       "  </thead>\n",
       "  <tbody>\n",
       "    <tr>\n",
       "      <th>count</th>\n",
       "      <td>44.000000</td>\n",
       "      <td>44.000000</td>\n",
       "      <td>44.000000</td>\n",
       "    </tr>\n",
       "    <tr>\n",
       "      <th>mean</th>\n",
       "      <td>90.340909</td>\n",
       "      <td>9.595455</td>\n",
       "      <td>474.752273</td>\n",
       "    </tr>\n",
       "    <tr>\n",
       "      <th>std</th>\n",
       "      <td>65.904068</td>\n",
       "      <td>23.762575</td>\n",
       "      <td>390.541757</td>\n",
       "    </tr>\n",
       "    <tr>\n",
       "      <th>min</th>\n",
       "      <td>1.000000</td>\n",
       "      <td>2.500000</td>\n",
       "      <td>60.000000</td>\n",
       "    </tr>\n",
       "    <tr>\n",
       "      <th>25%</th>\n",
       "      <td>48.000000</td>\n",
       "      <td>4.750000</td>\n",
       "      <td>240.000000</td>\n",
       "    </tr>\n",
       "    <tr>\n",
       "      <th>50%</th>\n",
       "      <td>76.000000</td>\n",
       "      <td>5.200000</td>\n",
       "      <td>388.300000</td>\n",
       "    </tr>\n",
       "    <tr>\n",
       "      <th>75%</th>\n",
       "      <td>112.000000</td>\n",
       "      <td>5.500000</td>\n",
       "      <td>501.500000</td>\n",
       "    </tr>\n",
       "    <tr>\n",
       "      <th>max</th>\n",
       "      <td>264.000000</td>\n",
       "      <td>160.900000</td>\n",
       "      <td>1795.200000</td>\n",
       "    </tr>\n",
       "  </tbody>\n",
       "</table>\n",
       "</div>"
      ],
      "text/plain": [
       "         CANTIDAD  PRECIO_VENTA        TOTAL\n",
       "count   44.000000     44.000000    44.000000\n",
       "mean    90.340909      9.595455   474.752273\n",
       "std     65.904068     23.762575   390.541757\n",
       "min      1.000000      2.500000    60.000000\n",
       "25%     48.000000      4.750000   240.000000\n",
       "50%     76.000000      5.200000   388.300000\n",
       "75%    112.000000      5.500000   501.500000\n",
       "max    264.000000    160.900000  1795.200000"
      ]
     },
     "execution_count": 15,
     "metadata": {},
     "output_type": "execute_result"
    }
   ],
   "source": [
    "all_data_df.info()\n",
    "print('\\n')\n",
    "\n",
    "all_data_df.describe()"
   ]
  },
  {
   "cell_type": "markdown",
   "id": "a9464306-cd63-49d7-b9c4-cc1a995efe4c",
   "metadata": {
    "tags": []
   },
   "source": [
    "#### Delete columns"
   ]
  },
  {
   "cell_type": "code",
   "execution_count": 18,
   "id": "c40bb209-cfdd-4380-9191-12cefa8bfce6",
   "metadata": {
    "tags": []
   },
   "outputs": [
    {
     "name": "stdout",
     "output_type": "stream",
     "text": [
      "<class 'pandas.core.frame.DataFrame'>\n",
      "RangeIndex: 44 entries, 0 to 43\n",
      "Data columns (total 5 columns):\n",
      " #   Column        Non-Null Count  Dtype  \n",
      "---  ------        --------------  -----  \n",
      " 0   FECHA         43 non-null     object \n",
      " 1   CANTIDAD      44 non-null     int64  \n",
      " 2   DESCRIPCIÓN   44 non-null     object \n",
      " 3   PRECIO_VENTA  44 non-null     float64\n",
      " 4   TOTAL         44 non-null     float64\n",
      "dtypes: float64(2), int64(1), object(2)\n",
      "memory usage: 1.8+ KB\n",
      "\n",
      "\n"
     ]
    }
   ],
   "source": [
    "# Delete columns 'OBSERVACIONES', 'U.M.'\n",
    "removed_columns_df = all_data_df.drop(columns=['OBSERVACIONES', 'U.M.'])\n",
    "\n",
    "removed_columns_df.info()\n",
    "print('\\n')"
   ]
  },
  {
   "cell_type": "markdown",
   "id": "419aa237-ac1f-4ca5-a39d-4acb69ca8827",
   "metadata": {
    "tags": []
   },
   "source": [
    "#### Delete 'NA' rows"
   ]
  },
  {
   "cell_type": "code",
   "execution_count": 21,
   "id": "9537d8eb-4ffc-4ca6-b318-df685d941f57",
   "metadata": {
    "tags": []
   },
   "outputs": [
    {
     "name": "stdout",
     "output_type": "stream",
     "text": [
      "<class 'pandas.core.frame.DataFrame'>\n",
      "Int64Index: 43 entries, 0 to 43\n",
      "Data columns (total 5 columns):\n",
      " #   Column        Non-Null Count  Dtype  \n",
      "---  ------        --------------  -----  \n",
      " 0   FECHA         43 non-null     object \n",
      " 1   CANTIDAD      43 non-null     int64  \n",
      " 2   DESCRIPCIÓN   43 non-null     object \n",
      " 3   PRECIO_VENTA  43 non-null     float64\n",
      " 4   TOTAL         43 non-null     float64\n",
      "dtypes: float64(2), int64(1), object(2)\n",
      "memory usage: 2.0+ KB\n",
      "\n",
      "\n"
     ]
    }
   ],
   "source": [
    "# Materialize the view (.copy()) and delete rows with NA values from \"FECHA\" column\n",
    "removed_no_date_rows_df = removed_columns_df.dropna(subset=['FECHA']).copy()\n",
    "\n",
    "removed_no_date_rows_df.info()\n",
    "print('\\n')\n",
    "# removed_no_date_rows_df.head()"
   ]
  },
  {
   "cell_type": "markdown",
   "id": "9a7e4fa7-c660-4d3f-9332-c5429e0c38f4",
   "metadata": {
    "tags": []
   },
   "source": [
    "#### Convert 'FECHA' column to datetime format"
   ]
  },
  {
   "cell_type": "code",
   "execution_count": 24,
   "id": "665cb15c-92e2-4415-ac13-6e0b7e314942",
   "metadata": {
    "tags": []
   },
   "outputs": [],
   "source": [
    "removed_no_date_rows_df['FECHA'] = pd.to_datetime(removed_no_date_rows_df['FECHA'], format='%m/%d/%Y')"
   ]
  },
  {
   "cell_type": "markdown",
   "id": "1e5ad02b-6895-4350-8245-f741287c679a",
   "metadata": {
    "tags": []
   },
   "source": [
    "## Task 2: Add Month Column"
   ]
  },
  {
   "cell_type": "code",
   "execution_count": 27,
   "id": "17a1b872-64a4-46ff-89c5-551a6a78b455",
   "metadata": {
    "tags": []
   },
   "outputs": [
    {
     "name": "stdout",
     "output_type": "stream",
     "text": [
      "        FECHA  CANTIDAD           DESCRIPCIÓN  PRECIO_VENTA   TOTAL  Mes\n",
      "0  2024-02-04        96              OVEJERAS           5.0   480.0    2\n",
      "1  2024-02-04        96            ECONOMICAS           2.5   240.0    2\n",
      "2  2024-02-08       100              OVEJERAS           5.0   500.0    2\n",
      "3  2024-02-10        60            ECONOMICAS           2.5   150.0    2\n",
      "4  2024-02-18        48              OVEJERAS           5.0   240.0    2\n",
      "5  2024-02-18        40       OVEJERAS LLANAS           5.5   220.0    2\n",
      "6  2024-02-26       132            ECONOMICAS           2.5   330.0    2\n",
      "7  2024-02-26        72              OVEJERAS           5.0   360.0    2\n",
      "8  2024-02-26        24            ECONOMICAS           2.5    60.0    2\n",
      "9  2024-03-05        48              OVEJERAS           5.0   240.0    3\n",
      "10 2024-03-07        96       OVEJERAS LLANAS           5.5   528.0    3\n",
      "11 2024-03-11        80            ECONOMICAS           2.5   200.0    3\n",
      "12 2024-03-11        88               BURBUJA           5.5   484.0    3\n",
      "14 2024-03-25        72              OVEJERAS           5.0   360.0    3\n",
      "15 2024-03-25        72       OVEJERAS LLANAS           5.5   396.0    3\n",
      "16 2024-06-28        80         CHOMPAS OSITO           3.0   240.0    6\n",
      "17 2024-03-28        60  ABRAZADOR CON CARITA           7.5   450.0    3\n",
      "18 2024-04-04       112               BURBUJA           5.5   616.0    4\n",
      "19 2024-04-04       112            ECONOMICAS           2.5   280.0    4\n",
      "20 2024-04-04       120              OVEJERAS           5.0   600.0    4\n",
      "21 2024-04-04        48       OVEJERAS LLANAS           5.5   264.0    4\n",
      "22 2024-04-10        66  ABRAZADOR CON CARITA           7.5   495.0    4\n",
      "23 2024-04-18        40       OVEJERAS LLANAS           5.5   220.0    4\n",
      "24 2024-04-18       120              OVEJERAS           5.0   600.0    4\n",
      "25 2024-04-18       120            ECONOMICAS           2.5   300.0    4\n",
      "26 2024-04-15        22              BODYS #0          17.8   391.6    4\n",
      "27 2024-04-15        22              BODYS #1          18.8   413.6    4\n",
      "28 2024-04-15        22              BODYS #2          19.8   435.6    4\n",
      "29 2024-04-15        22              BODYS #3          20.8   457.6    4\n",
      "30 2024-05-17       220        AJUAR 9 PIEZAS           5.4  1188.0    5\n",
      "31 2024-05-17       220       AJUAR 12 PIEZAS           6.0  1320.0    5\n",
      "32 2024-05-30        56              OVEJERAS           5.0   280.0    5\n",
      "33 2024-05-30        50       OVEJERAS LLANAS           5.5   275.0    5\n",
      "34 2024-05-30        52            ECONOMICAS           2.5   130.0    5\n",
      "35 2024-05-30        16              OVEJERAS           5.0    80.0    5\n",
      "36 2024-06-23        92               BURBUJA           5.5   506.0    6\n",
      "37 2024-05-17       264       AJUAR 15 PIEZAS           6.8  1795.2    5\n",
      "38 2024-06-17       132        AJUAR 6 PIEZAS           4.0   528.0    6\n",
      "39 2024-07-02       264        AJUAR 9 PIEZAS           5.4  1425.6    7\n",
      "40 2024-07-02       264       AJUAR 12 PIEZAS           6.0  1584.0    7\n",
      "41 2024-06-13        88              OVEJERAS           5.0   440.0    6\n",
      "42 2024-06-17        96            ECONOMICAS           2.5   240.0    6\n",
      "43 2024-07-01        70       OVEJERAS LLANAS           5.5   385.0    7\n"
     ]
    }
   ],
   "source": [
    "# Extract month from datetime\n",
    "removed_no_date_rows_df['Mes'] = removed_no_date_rows_df['FECHA'].dt.month\n",
    "\n",
    "# Transform 'Mes' column to int type\n",
    "removed_no_date_rows_df['Mes'] = removed_no_date_rows_df['Mes'].astype(int)\n",
    "\n",
    "# Resulting DataFrame\n",
    "print(removed_no_date_rows_df)"
   ]
  },
  {
   "cell_type": "markdown",
   "id": "f8742254-83cf-45c0-9aa6-2a2ce8be6fdb",
   "metadata": {},
   "source": [
    "### Question 1: What was the best month for sales? How much was earned that month?"
   ]
  },
  {
   "cell_type": "code",
   "execution_count": 30,
   "id": "f2650493-7e9a-4a47-91d7-022136c62e9d",
   "metadata": {
    "tags": []
   },
   "outputs": [
    {
     "name": "stdout",
     "output_type": "stream",
     "text": [
      "     CANTIDAD  PRECIO_VENTA   TOTAL\n",
      "Mes                                \n",
      "2         668          35.5  2580.0\n",
      "3         516          36.5  2658.0\n",
      "4         826         116.2  5073.4\n",
      "5         878          36.2  5068.2\n",
      "6         488          20.0  1954.0\n",
      "7         598          16.9  3394.6\n"
     ]
    }
   ],
   "source": [
    "monthly_sales_df = removed_no_date_rows_df.groupby('Mes').sum(numeric_only=True)\n",
    "print(monthly_sales_df)"
   ]
  },
  {
   "cell_type": "code",
   "execution_count": 32,
   "id": "6b6b0d77-6b8e-44aa-9f3b-cbfc6f7cb746",
   "metadata": {
    "tags": []
   },
   "outputs": [],
   "source": [
    "import matplotlib.pyplot as plt"
   ]
  },
  {
   "cell_type": "code",
   "execution_count": 33,
   "id": "ad5a98b7-f4ee-4271-be11-d4b277bd72a3",
   "metadata": {
    "tags": []
   },
   "outputs": [
    {
     "name": "stdout",
     "output_type": "stream",
     "text": [
      "\n",
      "\n"
     ]
    },
    {
     "data": {
      "image/png": "[encoded data removed]",
      "text/plain": [
       "<Figure size 1000x600 with 1 Axes>"
      ]
     },
     "metadata": {},
     "output_type": "display_data"
    },
    {
     "name": "stdout",
     "output_type": "stream",
     "text": [
      "El total de ventas hasta la fecha es: $20728.20\n"
     ]
    }
   ],
   "source": [
    "months = monthly_sales_df.index\n",
    "totals = monthly_sales_df['TOTAL']\n",
    "\n",
    "plt.figure(figsize=(10, 6))  # Ajustar el tamaño del gráfico si es necesario\n",
    "bars = plt.bar(months, totals)\n",
    "\n",
    "plt.xlabel('Mes')\n",
    "plt.ylabel('Total Ventas en USD ($)')\n",
    "plt.title('Ventas Totales por Mes')\n",
    "print('\\n')\n",
    "\n",
    "# Agregar etiquetas de datos encima de las barras\n",
    "for bar in bars:\n",
    "    yval = bar.get_height()\n",
    "    plt.text(bar.get_x() + bar.get_width()/2, yval, round(yval, 2), ha='center', va='bottom')\n",
    "\n",
    "plt.xticks(months)\n",
    "plt.show()\n",
    "\n",
    "# Total Sales till date from 'TOTAL' column\n",
    "total_ventas = monthly_sales_df['TOTAL'].sum()\n",
    "\n",
    "print(f\"El total de ventas hasta la fecha es: ${total_ventas:.2f}\")"
   ]
  },
  {
   "cell_type": "markdown",
   "id": "72639bb7-8c4d-48e6-a9c9-35004548cd1d",
   "metadata": {
    "tags": []
   },
   "source": [
    "### Question 2: What is the Best Seller product? Why do you think it sold the most?"
   ]
  },
  {
   "cell_type": "code",
   "execution_count": 36,
   "id": "9dcb644c-35c8-4ece-9e23-5f513f97fc3d",
   "metadata": {
    "tags": []
   },
   "outputs": [
    {
     "name": "stdout",
     "output_type": "stream",
     "text": [
      "                      CANTIDAD  PRECIO_VENTA   TOTAL  Mes\n",
      "DESCRIPCIÓN                                              \n",
      "OVEJERAS                   836          55.0  4180.0   38\n",
      "ECONOMICAS                 772          22.5  1930.0   30\n",
      "AJUAR 12 PIEZAS            484          12.0  2904.0   12\n",
      "AJUAR 9 PIEZAS             484          10.8  2613.6   12\n",
      "OVEJERAS LLANAS            416          38.5  2288.0   28\n",
      "BURBUJA                    292          16.5  1606.0   13\n",
      "AJUAR 15 PIEZAS            264           6.8  1795.2    5\n",
      "AJUAR 6 PIEZAS             132           4.0   528.0    6\n",
      "ABRAZADOR CON CARITA       126          15.0   945.0    7\n",
      "CHOMPAS OSITO               80           3.0   240.0    6\n",
      "BODYS #0                    22          17.8   391.6    4\n",
      "BODYS #1                    22          18.8   413.6    4\n",
      "BODYS #2                    22          19.8   435.6    4\n",
      "BODYS #3                    22          20.8   457.6    4\n"
     ]
    }
   ],
   "source": [
    "best_seller_product_df = removed_no_date_rows_df.groupby('DESCRIPCIÓN').sum(numeric_only=True)\n",
    "best_seller_product_df = best_seller_product_df.sort_values(by='CANTIDAD', ascending=False)\n",
    "\n",
    "print(best_seller_product_df)\n",
    "#best_seller_product_ordered_df.head(5)"
   ]
  },
  {
   "cell_type": "code",
   "execution_count": null,
   "id": "9e128624-13e5-4ab4-ac0b-7a73b7bfd5b7",
   "metadata": {},
   "outputs": [],
   "source": []
  },
  {
   "cell_type": "code",
   "execution_count": 40,
   "id": "abdb472f-b0d4-4342-bec7-e2e8e06c0321",
   "metadata": {
    "tags": []
   },
   "outputs": [
    {
     "name": "stdout",
     "output_type": "stream",
     "text": [
      "\n",
      "\n"
     ]
    },
    {
     "data": {
      "image/png": "[encoded data removed]",
      "text/plain": [
       "<Figure size 1200x800 with 1 Axes>"
      ]
     },
     "metadata": {},
     "output_type": "display_data"
    }
   ],
   "source": [
    "#products = [product for product, df in best_seller_product_df.groupby('DESCRIPCIÓN')]\n",
    "products = best_seller_product_df.index.tolist()\n",
    "amount = best_seller_product_df['CANTIDAD'].tolist()\n",
    "\n",
    "# Crear el gráfico de barras\n",
    "plt.figure(figsize=(12, 8))  \n",
    "bars = plt.bar(products, amount, color='skyblue')\n",
    "\n",
    "plt.xlabel('Productos')\n",
    "plt.ylabel('Cantidad Vendida')\n",
    "plt.title('Productos más Vendidos')\n",
    "print('\\n')\n",
    "\n",
    "# Agregar etiquetas de datos encima de las barras\n",
    "for bar in bars:\n",
    "    yval = bar.get_height()\n",
    "    plt.text(bar.get_x() + bar.get_width()/2, yval, round(yval, 2), ha='center', va='bottom')\n",
    "\n",
    "plt.xticks(rotation=45, ha='right')  # Ajustar las etiquetas del eje x para que no se sobrepongan\n",
    "plt.tight_layout()  # Ajustar el diseño para evitar el corte de etiquetas\n",
    "\n",
    "plt.show()"
   ]
  },
  {
   "cell_type": "code",
   "execution_count": 92,
   "id": "02b6b69a-e278-4f53-8ddd-7bde122819c5",
   "metadata": {
    "tags": []
   },
   "outputs": [
    {
     "data": {
      "text/html": [
       "<div>\n",
       "<style scoped>\n",
       "    .dataframe tbody tr th:only-of-type {\n",
       "        vertical-align: middle;\n",
       "    }\n",
       "\n",
       "    .dataframe tbody tr th {\n",
       "        vertical-align: top;\n",
       "    }\n",
       "\n",
       "    .dataframe thead th {\n",
       "        text-align: right;\n",
       "    }\n",
       "</style>\n",
       "<table border=\"1\" class=\"dataframe\">\n",
       "  <thead>\n",
       "    <tr style=\"text-align: right;\">\n",
       "      <th></th>\n",
       "      <th>CANTIDAD</th>\n",
       "      <th>PRECIO_VENTA</th>\n",
       "      <th>TOTAL</th>\n",
       "      <th>Mes</th>\n",
       "    </tr>\n",
       "    <tr>\n",
       "      <th>DESCRIPCIÓN</th>\n",
       "      <th></th>\n",
       "      <th></th>\n",
       "      <th></th>\n",
       "      <th></th>\n",
       "    </tr>\n",
       "  </thead>\n",
       "  <tbody>\n",
       "    <tr>\n",
       "      <th>AJUAR 6 PIEZAS</th>\n",
       "      <td>132</td>\n",
       "      <td>4.0</td>\n",
       "      <td>528.0</td>\n",
       "      <td>6</td>\n",
       "    </tr>\n",
       "    <tr>\n",
       "      <th>ABRAZADOR CON CARITA</th>\n",
       "      <td>126</td>\n",
       "      <td>15.0</td>\n",
       "      <td>945.0</td>\n",
       "      <td>7</td>\n",
       "    </tr>\n",
       "    <tr>\n",
       "      <th>CHOMPAS OSITO</th>\n",
       "      <td>80</td>\n",
       "      <td>3.0</td>\n",
       "      <td>240.0</td>\n",
       "      <td>6</td>\n",
       "    </tr>\n",
       "    <tr>\n",
       "      <th>BODYS #0</th>\n",
       "      <td>22</td>\n",
       "      <td>17.8</td>\n",
       "      <td>391.6</td>\n",
       "      <td>4</td>\n",
       "    </tr>\n",
       "    <tr>\n",
       "      <th>BODYS #1</th>\n",
       "      <td>22</td>\n",
       "      <td>18.8</td>\n",
       "      <td>413.6</td>\n",
       "      <td>4</td>\n",
       "    </tr>\n",
       "    <tr>\n",
       "      <th>BODYS #2</th>\n",
       "      <td>22</td>\n",
       "      <td>19.8</td>\n",
       "      <td>435.6</td>\n",
       "      <td>4</td>\n",
       "    </tr>\n",
       "    <tr>\n",
       "      <th>BODYS #3</th>\n",
       "      <td>22</td>\n",
       "      <td>20.8</td>\n",
       "      <td>457.6</td>\n",
       "      <td>4</td>\n",
       "    </tr>\n",
       "  </tbody>\n",
       "</table>\n",
       "</div>"
      ],
      "text/plain": [
       "                      CANTIDAD  PRECIO_VENTA  TOTAL  Mes\n",
       "DESCRIPCIÓN                                             \n",
       "AJUAR 6 PIEZAS             132           4.0  528.0    6\n",
       "ABRAZADOR CON CARITA       126          15.0  945.0    7\n",
       "CHOMPAS OSITO               80           3.0  240.0    6\n",
       "BODYS #0                    22          17.8  391.6    4\n",
       "BODYS #1                    22          18.8  413.6    4\n",
       "BODYS #2                    22          19.8  435.6    4\n",
       "BODYS #3                    22          20.8  457.6    4"
      ]
     },
     "execution_count": 92,
     "metadata": {},
     "output_type": "execute_result"
    }
   ],
   "source": [
    "# Filtrar productos por total de ventas inferiores a $200\n",
    "ropa_df = best_seller_product_df[best_seller_product_df['CANTIDAD'] <= 200]\n",
    "\n",
    "ropa_df.head(100)"
   ]
  },
  {
   "cell_type": "code",
   "execution_count": 94,
   "id": "09e6e519-bef0-4671-86d7-2f21e67bab46",
   "metadata": {},
   "outputs": [
    {
     "name": "stdout",
     "output_type": "stream",
     "text": [
      "Mean Squared Error: 6197.692669826853\n"
     ]
    },
    {
     "data": {
      "image/png": "[encoded data removed]",
      "text/plain": [
       "<Figure size 640x480 with 1 Axes>"
      ]
     },
     "metadata": {},
     "output_type": "display_data"
    }
   ],
   "source": [
    "# Supongamos que 'removed_no_date_rows_df' es tu DataFrame original\n",
    "removed_no_date_rows_df['FECHA'] = pd.to_datetime(removed_no_date_rows_df['FECHA'], format='%m/%d/%Y')\n",
    "\n",
    "removed_no_date_rows_df['FECHA'] = pd.to_datetime(removed_no_date_rows_df['FECHA'])\n",
    "removed_no_date_rows_df['Año'] = removed_no_date_rows_df['FECHA'].dt.year\n",
    "removed_no_date_rows_df['Mes'] = removed_no_date_rows_df['FECHA'].dt.month\n",
    "\n",
    "# Codificar variables categóricas\n",
    "df = pd.get_dummies(removed_no_date_rows_df, columns=['DESCRIPCIÓN'], drop_first=True)\n",
    "\n",
    "# Seleccionar características y la variable objetivo\n",
    "X = df[['PRECIO_VENTA', 'Mes', 'Año'] + [col for col in df.columns if col.startswith('DESCRIPCIÓN_')]]\n",
    "y = df['CANTIDAD']\n",
    "\n",
    "# Dividir los datos en conjuntos de entrenamiento y prueba\n",
    "from sklearn.model_selection import train_test_split\n",
    "X_train, X_test, y_train, y_test = train_test_split(X, y, test_size=0.2, random_state=42)\n",
    "\n",
    "# Entrenar el modelo de regresión lineal\n",
    "from sklearn.linear_model import LinearRegression\n",
    "model = LinearRegression()\n",
    "model.fit(X_train, y_train)\n",
    "\n",
    "# Hacer predicciones\n",
    "y_pred = model.predict(X_test)\n",
    "\n",
    "# Evaluar el modelo\n",
    "from sklearn.metrics import mean_squared_error\n",
    "mse = mean_squared_error(y_test, y_pred)\n",
    "print(f\"Mean Squared Error: {mse}\")\n",
    "\n",
    "# Visualizar los resultados\n",
    "import matplotlib.pyplot as plt\n",
    "plt.scatter(y_test, y_pred)\n",
    "plt.xlabel('Actual Sales')\n",
    "plt.ylabel('Predicted Sales')\n",
    "plt.title('Actual vs Predicted Sales')\n",
    "plt.show()\n"
   ]
  },
  {
   "cell_type": "code",
   "execution_count": null,
   "id": "e241e39f-afe3-4cd1-a183-e6022b2e7d07",
   "metadata": {},
   "outputs": [],
   "source": []
  }
 ],
 "metadata": {
  "kernelspec": {
   "display_name": "Python 3 (ipykernel)",
   "language": "python",
   "name": "python3"
  },
  "language_info": {
   "codemirror_mode": {
    "name": "ipython",
    "version": 3
   },
   "file_extension": ".py",
   "mimetype": "text/x-python",
   "name": "python",
   "nbconvert_exporter": "python",
   "pygments_lexer": "ipython3",
   "version": "3.11.7"
  }
 },
 "nbformat": 4,
 "nbformat_minor": 5
}
